{
 "cells": [
  {
   "cell_type": "code",
   "execution_count": null,
   "metadata": {},
   "outputs": [],
   "source": [
    "import smtplib\n",
    "from email.mime.multipart import MIMEMultipart\n",
    "from email.mime.text import MIMEText\n",
    "from email.mime.base import MIMEBase\n",
    "from email import encoders\n",
    "import pandas as pd\n",
    "\n",
    "mail_content ='''Hii'''\n",
    "df = pd.read_csv('')\n",
    "sender_address = ''\n",
    "sender_pass = ''\n",
    "receiver_address =df['Email']\n",
    "count=0\n",
    "\n",
    "#Create SMTP session for sending the mail\n",
    "for mail in receiver_address:\n",
    "    count=count+1\n",
    "    message = MIMEMultipart()\n",
    "    message.attach(MIMEText(mail_content, 'plain'))\n",
    "    message['From'] = sender_address\n",
    "    message['To'] = mail\n",
    "    message['Subject'] = ''#write your subject here\n",
    "    #The body and the attachments for the mail\n",
    "    attach_file_name1 = ''#type file name here\n",
    "    attach_file1 = open(attach_file_name1, 'rb')\n",
    "    #attach_file_name2 = ''#if there is second file you want to add\n",
    "    #attach_file2 = open(attach_file_name2, 'rb')# Open the file as binary mode\n",
    "    payload = MIMEBase('application', '.txt')#file type\n",
    "    #payload1 = MIMEBase('application', '')#file type\n",
    "    payload.set_payload((attach_file1).read())\n",
    "    #payload1.set_payload((attach_file2).read())\n",
    "    #encode the attachment\n",
    "    encoders.encode_base64(payload)\n",
    "    #encoders.encode_base64(payload1)\n",
    "    #add payload header with filename\n",
    "    payload.add_header('Content-Disposition', 'attachment', filename=attach_file_name1)\n",
    "    #payload1.add_header('Content-Disposition', 'attachment', filename=attach_file_name2)\n",
    "    message.attach(payload)\n",
    "    #message.attach(payload1)\n",
    "    session = smtplib.SMTP('smtp.gmail.com', 587) #use gmail with port\n",
    "    session.starttls() #enable security\n",
    "    session.login(sender_address, sender_pass) #login with mail_id and password\n",
    "    text = message.as_string()\n",
    "    session.sendmail(sender_address, mail, text)\n",
    "    print('Mail Sent to {}'.format(mail))\n",
    "    \n",
    "session.quit()\n",
    "\n"
   ]
  }
 ],
 "metadata": {
  "kernelspec": {
   "display_name": "Python 3",
   "language": "python",
   "name": "python3"
  },
  "language_info": {
   "codemirror_mode": {
    "name": "ipython",
    "version": 3
   },
   "file_extension": ".py",
   "mimetype": "text/x-python",
   "name": "python",
   "nbconvert_exporter": "python",
   "pygments_lexer": "ipython3",
   "version": "3.8.8"
  }
 },
 "nbformat": 4,
 "nbformat_minor": 4
}
